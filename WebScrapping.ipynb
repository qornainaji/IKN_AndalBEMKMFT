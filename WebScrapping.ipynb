{
  "nbformat": 4,
  "nbformat_minor": 0,
  "metadata": {
    "colab": {
      "provenance": [],
      "collapsed_sections": []
    },
    "kernelspec": {
      "name": "python3",
      "display_name": "Python 3"
    },
    "language_info": {
      "name": "python"
    }
  },
  "cells": [
    {
      "cell_type": "code",
      "execution_count": null,
      "metadata": {
        "id": "Xss6R1Hkk8FT"
      },
      "outputs": [],
      "source": [
        "# !pip install git+https://github.com/karvanpy/ScrapingDETIK.git"
      ]
    },
    {
      "cell_type": "markdown",
      "source": [
        "**BeautifulSoup**"
      ],
      "metadata": {
        "id": "4RVCU0r9xvHM"
      }
    },
    {
      "cell_type": "code",
      "source": [
        "! pip install beautifulsoup4\n",
        "! pip install requests"
      ],
      "metadata": {
        "colab": {
          "base_uri": "https://localhost:8080/"
        },
        "id": "1ZZOKAZyxukA",
        "outputId": "05d0e7a3-a9b7-42c2-def2-af426e63a88e"
      },
      "execution_count": null,
      "outputs": [
        {
          "output_type": "stream",
          "name": "stdout",
          "text": [
            "Looking in indexes: https://pypi.org/simple, https://us-python.pkg.dev/colab-wheels/public/simple/\n",
            "Requirement already satisfied: beautifulsoup4 in /usr/local/lib/python3.7/dist-packages (4.6.3)\n",
            "Looking in indexes: https://pypi.org/simple, https://us-python.pkg.dev/colab-wheels/public/simple/\n",
            "Requirement already satisfied: requests in /usr/local/lib/python3.7/dist-packages (2.23.0)\n",
            "Requirement already satisfied: urllib3!=1.25.0,!=1.25.1,<1.26,>=1.21.1 in /usr/local/lib/python3.7/dist-packages (from requests) (1.24.3)\n",
            "Requirement already satisfied: certifi>=2017.4.17 in /usr/local/lib/python3.7/dist-packages (from requests) (2022.6.15)\n",
            "Requirement already satisfied: chardet<4,>=3.0.2 in /usr/local/lib/python3.7/dist-packages (from requests) (3.0.4)\n",
            "Requirement already satisfied: idna<3,>=2.5 in /usr/local/lib/python3.7/dist-packages (from requests) (2.10)\n"
          ]
        }
      ]
    },
    {
      "cell_type": "code",
      "source": [
        "from bs4 import BeautifulSoup as bt\n",
        "import requests\n",
        "import pandas as pd\n"
      ],
      "metadata": {
        "id": "kCGTc9jMyTMx"
      },
      "execution_count": null,
      "outputs": []
    },
    {
      "cell_type": "code",
      "source": [
        "detik_url = 'https://www.detik.com/search/searchnews?query=ibu%20kota%20nusantara&sortby=time&page=1'"
      ],
      "metadata": {
        "id": "gyg_JPkhycGi"
      },
      "execution_count": null,
      "outputs": []
    },
    {
      "cell_type": "code",
      "source": [
        "r = requests.get('https://www.detik.com/search/searchnews?query=ibu%20kota%20nusantara&sortby=time&page=1')"
      ],
      "metadata": {
        "id": "S44h9_HA2_Vc"
      },
      "execution_count": null,
      "outputs": []
    },
    {
      "cell_type": "code",
      "source": [
        "b = bt(r.content, 'lxml')"
      ],
      "metadata": {
        "id": "Ue6JK14F4rk-"
      },
      "execution_count": null,
      "outputs": []
    },
    {
      "cell_type": "code",
      "source": [
        "for news in b.findAll('h2'):\n",
        "  print(news.text)"
      ],
      "metadata": {
        "colab": {
          "base_uri": "https://localhost:8080/"
        },
        "id": "gVMTNmO14zwW",
        "outputId": "53829039-8a1f-4d0b-a99b-eca54c903785"
      },
      "execution_count": null,
      "outputs": [
        {
          "output_type": "stream",
          "name": "stdout",
          "text": [
            "Foxconn Kepincut Bikin Smart City di IKN\n",
            "Barang Milik Negara Pasca Pemindahan IKN\n",
            "SKKL Echo Jalan Tol Internet ke AS Sampai ke RI, Apa Kabar Bifrost?\n",
            "Di Apel Dansat TNI AD, Kapolri Bicara Pentingnya Sinergitas TNI-Polri\n",
            "Megawati Singgung Kunjungan Jokowi-Puan ke IKN Nusantara\n",
            "Megawati: Yang Milih Pak Jokowi Saya, Kok Jejaknya Mau Dihilangkan\n",
            "PKB Cari Lokasi Deklarasi Prabowo-Cak Imin, IKN Nusantara Jadi Opsi\n",
            "Diskusi dengan Pemred Media di IKN, Jokowi: Kita Serius Urus Lingkungan\n",
            "Infrastruktur IKN Mulai Digarap Agustus 2022\n"
          ]
        }
      ]
    },
    {
      "cell_type": "code",
      "source": [
        "links = []\n",
        "for news in b.findAll('article'):\n",
        "  links.append(news.a['href'])\n",
        "\n",
        "links"
      ],
      "metadata": {
        "colab": {
          "base_uri": "https://localhost:8080/"
        },
        "id": "7RN2kN096HHk",
        "outputId": "6b16ba11-8ad9-4e99-b7fc-961e7d281815"
      },
      "execution_count": null,
      "outputs": [
        {
          "output_type": "execute_result",
          "data": {
            "text/plain": [
              "['https://finance.detik.com/properti/d-6149263/foxconn-kepincut-bikin-smart-city-di-ikn',\n",
              " 'https://news.detik.com/kolom/d-6149100/barang-milik-negara-pasca-pemindahan-ikn',\n",
              " 'https://inet.detik.com/telecommunication/d-6145349/skkl-echo-jalan-tol-internet-ke-as-sampai-ke-ri-apa-kabar-bifrost',\n",
              " 'https://news.detik.com/berita/d-6144226/di-apel-dansat-tni-ad-kapolri-bicara-pentingnya-sinergitas-tni-polri',\n",
              " 'https://news.detik.com/berita/d-6143445/megawati-singgung-kunjungan-jokowi-puan-ke-ikn-nusantara',\n",
              " 'https://news.detik.com/berita/d-6143419/megawati-yang-milih-pak-jokowi-saya-kok-jejaknya-mau-dihilangkan',\n",
              " 'https://news.detik.com/berita/d-6142376/pkb-cari-lokasi-deklarasi-prabowo-cak-imin-ikn-nusantara-jadi-opsi',\n",
              " 'https://news.detik.com/detiktv/d-6142355/diskusi-dengan-pemred-media-di-ikn-jokowi-kita-serius-urus-lingkungan',\n",
              " 'https://finance.detik.com/properti/d-6142002/infrastruktur-ikn-mulai-digarap-agustus-2022']"
            ]
          },
          "metadata": {},
          "execution_count": 118
        }
      ]
    },
    {
      "cell_type": "code",
      "source": [
        "for link in links:\n",
        "  page = requests.get(link)\n",
        "  bsobj = bt(page.content)\n",
        "  for news in bsobj.findAll('p'):\n",
        "    print(news.text)"
      ],
      "metadata": {
        "id": "CP_Prx9F9Ude",
        "colab": {
          "base_uri": "https://localhost:8080/"
        },
        "outputId": "447f340a-5fa6-4cfd-9aba-ca2a47f2221d"
      },
      "execution_count": null,
      "outputs": [
        {
          "output_type": "stream",
          "name": "stdout",
          "text": [
            "Perusahaan raksasa asal Taiwan Hon Hai Precision Industry Co. Ltd (Foxconn) berencana berinvestasi di Indonesia. Chairman Foxconn, Young Liu dan Presiden Joko Widodo pun sudah bertemu pada Sabtu (25/6) di Istana Bogor\n",
            "Pertemuan itu membahas tindak lanjut Nota Kesepahaman yang telah disepakati sebelumnya terkait dengan rencana investasi Foxconn, Gogoro, PT Industri Baterai Indonesia (IBC), dan PT Indika Energy Tbk di Indonesia 21 Januari 2022.\n",
            "Menurut catatan Badan Koordinasi Penanaman Modal (BKPM) Rencana investasi tersebut sebesar US$ 8 miliar atau Rp 118, 4 triliun (kurs Rp 14.800), dengan perkiraan penyerapan tenaga kerja lebih dari 10.000 orang.\n",
            "Chairman Foxconn Young Liu menyampaikan apresiasi atas dukungan Presiden Joko Widodo dan Menteri Investasi/Kepala BKPM Bahli Lahadalia yang akan sepenuhnya memfasilitasi investasi Foxconn. Foxconn menawarkan model bisnis baru yaitu BOL (Build, Operate, Localize) untuk investasinya di Indonesia.\n",
            "\"Adanya model bisnis baru BOL ini akan memungkinkan Foxconn dan perusahaan Taiwan lainnya untuk dapat bermitra lebih baik lagi dengan perusahaan Indonesia dalam membangun industri di sini,\" ujar Young melalui pernyataan tertulisnya, dikutip Senin (27/6/2022).\n",
            "Chairman Young menyatakan keyakinannya bahwa kerja sama antara Foxconn dengan Pemerintah Indonesia ini dapat mencapai kesuksesan besar.\n",
            "Sistem Komunikasi Kabel Laut (SKKL) Echo sudah mulai digelar dan berlabuh di Indonesia sebagai jalan tol internet secara langsung ke Amerika Serikat (AS). Lalu, apa kabar 'saudara kembarnya' Bifrost?\n",
            "Sebagai informasi, ada dua kabel bawah laut yang diumumkan pada Maret 2021, digelar membentang sepanjang 15 ribu km dari pantai barat AS yang kemudian terhubung dengan Indonesia dan Singapura, yaitu Echo dan Bifrost.\n",
            "Kedua SKKL itu diinisiasi oleh perusahaan teknologi Meta (induk Facebook, Instagram. WhatsApp) dan Google dengan menggandeng mitra lokal. Google duet dengan XL Axiata untuk menggelar Echo dan Meta bermitra dengan Telin yang merupakan anak perusahaan Telkom, bersama Keppel perusahaan asal Singapura.\n",
            "\n",
            "\n",
            "Pembangunan Bifrost menjadi strategis, karena akan berfungsi memperkuat 2nd Gateway International Manado.\n",
            "Direktur Utama Telin Budi Satria Dharma Purba mengatakan, jalur SKKL Bifrost juga akan berfungsi sebagai diversity/redundancy titik pendaratan di mana titik pendaratan IGG (konsorsium Telkom dan Telin) dan Bifrost akan berbeda. Selain itu untuk memberikan dukungan ketersediaan konektivitas ke arah Ibu Kota Nusantara.\n",
            "\"Telkom Group melalui Telin telah membangun 80 ribu SKKL, ditambah dengan kolaborasi kepemilikan di berbagai SKKL internasional lainnya mencapai 70.000 KM terbentang dari Indonesia, kawasan Asia, Timur Tengah, hingga Amerika Serikat,\" jelas Dirut Telin Budi Satria Dharma Purba, Jumat (24/6/2022).\n",
            "Sementara itu, SVP Corcomm & Investor Relation Telkom Ahmad Reza memaparkan, Telkom diklaim menjadi operator pertama yang membangun SKKL yang menghubungkan Indonesia/Asia Tenggara langsung ke Amerika Serikat. Melalui konsorsium Kabel Laut SEA-US dan Indonesia Global Gateway (IGG) membangun SKKL sejak tahun 2014 dan selesai tahun 2017.\n",
            "IGG adalah konsorsium antara Telkom dengan Telin, sedangkan SEA-US adalah konsorsium internasional beranggotakan Telin, Globe Telecom, GTA, Hawaiian Telcom, RTI, dan GTI. Kedua SKKL tersebut sudah beroperasi sejak 2017 melayani pelanggan nasional dan juga hyperscaler, seperti Meta/Facebook, AWS, Microsoft, dan lain sebagainya serta melayani IP Transit (2nd Gateway International Manado). Reza menambahkan, kabel bawah laut IGG SEA-US ini membentang dari Singapura, Indonesia ke AS dan menghubungkan lima area dan teritori, yaitu Manado (Indonesia), Davao (Filipina), Piti (Guam), Oahu (Hawaii, AS), dan Los Angeles (California, AS).\n",
            "Disampaikannya juga, penggelaran SEA-US dan IGG ini merupakan jalur alternatif yang melewati perairan Indonesia dan laut Pasifik sebagai proteksi atas rute-rute kabel ke Amerika yang umumnya melalui isu Selat Luzon dan Laut Cina Selatan/Selat Luzon yang sering mengalami gangguan kabel putus akibat gempa bawah laut dan juga jangkar kapal.\n",
            "\n",
            "\n",
            "\"Hal ini mengakibatkan jalur IGG dan SEA-US saat ini menjadi rute paling favorit dan semakin meningkatnya permintaan pelanggan untuk rute ini. Saat ini banyak pengembangan dan pembangunan sistem kabel laut yang mengikuti rute ini,\" jelas Reza.\n",
            "Memperkuat SKKL yang sudah ada dan menghubungkan konektivitas di Indonesia Timur, Telin telah membangun SKKL Bifrost sejak Maret 2021, bergabung dengan konsorsium telekomunikasi global beranggotakan Telin, Keppel dan Meta. Menurut Reza, SKKL Bifrost menghubungkan langsung Indonesia ke AS dengan Manado sebagai gateway internasional kedua di Indonesia setelah Batam, untuk mendukung pembangunan kawasan Indonesia Timur.\n",
            "\"Pembangunan SKKL Bifrost yang dipionir oleh Telkom Group menjadi sangat strategis bagi konektivitas Indonesia secara komprehensif dan mendukung ekonomi digital yang diproyeksikan pada tahun 2030 dapat mencapai Rp 4.500 triliun. Keberadaan SKKL Bifrost ini juga akan menjadi backup jika ada SKKL yang putus atau mengalami gangguan dan ketersediaan konektifitas ke arah Ibu Kota Negara Nusantara (IKN Nusantara) Republik Indonesia yang saat ini juga dalam proses pembangunan,\" paparnya.\n",
            "Kapolri Jenderal Listyo Sigit Prabowo menjadi salah satu pembicara di kegiatan Apel Komandan Satuan (Dansat) TNI AD di Akademi Militer, Magelang, Jawa Tengah. Dalam acara itu, Sigit bicara mengenai pentingnya sinergitas TNI-Polri dalam menyelesaikan permasalahan bangsa menuju Indonesia berdaulat, adil, dan makmur 2045.\n",
            "Acara Apel Komandan Satuan (Dansat) TNI AD itu berlangsung pada Kamis (23/6). Sigit menekankan, penguatan sinergitas TNI-Polri menjadi salah satu kunci utama dalam menyukseskan dan mewujudkan visi Indonesia Emas di tahun 2045 mendatang.\n",
            "\"Harapan saya, sinergitas TNI-Polri yang selama ini terbangun terus bisa kita jaga. Sehingga dapat mengawal kebijakan pemerintah serta mampu menghadapi ancaman, tantangan dan gangguan kamtibmas dalam mewujudkan Indonesia Emas 2045,\" kata Sigit kepada wartawan, Jumat (24/6/2022).\n",
            "Untuk mewujudkan Indonesia Emas, Sigit mengatakan Presiden Joko Widodo (Jokowi) telah menuangkan tujuh impian Indonesia mulai tahun 2015-2085. Kebijakan Pemerintah saat ini, kata Sigit, mengarah untuk melaksanakan rencana tersebut.\n",
            "Dari visi itu, Sigit menyebut, ada empat pilar untuk mewujudkan Indonesia Emas 2045, yakni, manusia Indonesia yang unggul, berbudaya, serta menguasai ilmu pengetahuan dan teknologi. Kedua, ekonomi yang maju dan berkelanjutan. Ketiga, pembangunan yang merata dan inklisif. Dan keempat, negara yang demokratis, kuat dan bersih.\n",
            "\"Ini semua bisa terwujud apabila syaratnya satu, stabilitas kamtibmas, kedaulatan negara, soliditas TNI-Polri terjaga dengan baik. Namun kalau tidak, jangan pernah mimpi mewujudkan visi ini. Ini pentingnya pertemuan kita hari ini. Sehingga kita bisa melihat kembali ada tujuan besar yang harus kita kawal sebagai pilar utama bangsa,\" ujar Sigit.\n",
            "Lebih lanjut, Sigit menjelaskan mengenai skenario pertumbuhan perekonomian Indonesia. Sigit mengatakan saat ini pertumbuhan ekonomi sudah mulai masuk ke tahapan persiapan pembangunan SDM unggul hingga menyiapkan infrastruktur yang bertujuan sebagai fondasi perekonomian industri dan manufaktur.\n",
            "Mantan Kabareskrim Polri itu berharap pada tahun 2030 hingga 2035, pertumbuhan perekonomian Indonesia jauh lebih baik.\n",
            "\"Kita lihat, harapan kita saat di 2036, masuk ke tahapan lepas dari Middle Income Trap dan masuk Upper Income. Walaupun kondisi Pandemi dan global yang ada kita membuat skenario yang realistis. Namun kita harapkan pertumbuhan ekonomi, kita jaga di atas 5 persen. Dengan posisi ini tahapan menuju Indonesia Emas dapat tercapai,\" ucapnya.\n",
            "Selain itu, Sigit juga menyinggung soal pesan Presiden Jokowi di Rapim TNI-Polri beberapa waktu lalu. Sigit mengungkapkan saat itu Jokowi mengingatkan Polri agar menjaga cita-cita mewujudkan Indonesia menjadi negara produksi bukan konsumsi.\n",
            "\"Pesan ini tentu harus diingat. Karena saat ini Indonesia melakukan kebijakan merubah pola dari negara konsumtif bergeser ke produktif. Jadi pasar akan berubah dari negara lain, menjadi pasar kita. Dan ini akan membuat situasi global yang tentunya akan memunculkan kondisi, yang kita harus waspada,\" tuturnya.\n",
            "Mantan Kapolda Banten ini juga mengingatkan bahwa TNI-Polri harus terus memantau dan mengawasi situasi dinamika lingkungan strategis ditingkat global, nasional hingga regional. Seperti Pandemi COVID-19, perang Ukraina-Rusia, kemunculan kelompok terorisme, masalah soal kedaulatan, Pemilu serentak di tahun 2024 mendatang, mengawal pembangunan Ibu Kota Nusantara (IKN) dan dinamika dalam negeri lainnya.\n",
            "\"Arahan pak Presiden beliau ingin TNI-Polri menjadi institusi yang profesional dan bekerja secara sinergis. Dan ini tentunya perintah Panglima tertinggi untuk kita semua. Terkait kerja sama dan sinergitas kita tindaklanjuti dengan dasar hukum yang ada,\" ungkap Sigit.\n",
            "\n",
            "Simak juga 'Cegah Polarisasi Jelang Pemilu 2024, Polri Bentuk Satgas Nusantara':\n",
            "\n",
            "[Gambas:Video 20detik]\n",
            "\n",
            "\n",
            "\n",
            "Presiden Joko Widodo (Jokowi) mengajak Ketua DPR yang juga Ketua DPP PDIP Puan Maharani ke IKN Nusantara sehari setelah bertemu di pembukaan Rakernas PDIP. Sehari setelahnya, Megawati menyinggung aktivitas bersama Jokowi-Puan dalam pidato penutupan Rakernas PDIP.\n",
            "Jokowi menghadiri pembukaan Rakernas PDIP di Lenteng Agung, Jakarta Selatan, Selasa (21/6/2022) lalu. Jokowi juga berbincang dengan Megawati di ruang kerja sang ketum. Dua anak Megawati, Puan Maharani dan Prananda Prabowo, ikut berbincang di ruangan itu.\n",
            "Sehari setelahnya, Rabu (22/6), Jokowi mengajak Puan ke IKN Nusantara bersama sejumlah pemimpin media nasional. Di sana, Jokowi juga ditanya soal kode dukungan untuk Puan dari ajakannya ke IKN Nusantara. Sang Presiden menjawab normatif, membebaskan tafsir publik jika memang berpersepsi dirinya mendukung Puan.\n",
            "Nah, kegiatan bersama Jokowi dan Puan itu disinggung Megawati dalam pidatonya di penutupan Rakernas PDIP. Megawati berbicara soal kegiatan Jokowi.\n",
            "\"Ini kemarin baru sama Mbak Puan untuk Ibu Kota baru kita, sekarang (Presiden Jokowi, red) sudah terbang ke mana... sudah jadi belum ke ini (ke Ukraina)? Belum? Nanti ini rencananya akan pergi ke Ukraine, dari Ukraine... ya itu ke Jerman, Ukraine, Ukraine ke Rusia melalui Poland. Jadi berhenti di Poland, dari Poland ke Ukraine-nya naik kereta 12 jam balik lagi lalu ke Rusia. Dari Rusia lalu ke Saudi Arabia. Itu maksud saya,\" kata Megawati sekaligus menceritakan rasa bangganya kepada Jokowi, Kamis (23/6/2022).\n",
            "\"Aduh, saya terima kasih banget, untung kita punya Presiden kuat. Belum senengnya turun ke pasar dan lain sebagainya untuk nanya. Jadi saya melihat alhamdulillah bahwa dulu yang menganggap saya ini kayaknya ini sopo to wongnya, ternyata bisa menjadi pemimpin pada saat sekarang,\" ujar Jokowi.\n",
            "Megawati lalu menegaskan bahwa dirinya lah yang memilih Jokowi menjadi capres PDIP pada 2014. Dia meminta fakta ini tak ditutup-tutupi.\n",
            "\"Kadang orang itu mau nutup-nutupi, orang yang milih itu Pak Jokowi ya saya kok. Kok kayaknya itu jejak mau dihilang-hilangkan gitu. Lo enak bener. Lo, makanya, sudahlah tunggulah kalau saya... ya ndak mungkin dong dari mulut saya ndak akan keluar nanti siapa yang mau saya jadikan gitu lo,\" ujar Megawati.\n",
            "\n",
            "Dalam kunjungannya ke IKN Nusantara, Kalimantan Timur, Presiden Jokowi didampingi Puan Maharani. Jokowi tidak masalah jika langkahnya ini dianggap sebagai dukungan kepada Puan Maharani.\n",
            "\"Itu terserah persepsi masing-masing, kalau saya dianggap memberikan dukungan untuk Mbak Puan, ya silakan (berpersepsi begitu),\" kata Jokowi saat berbincang di sela-sela kegiatan meninjau Persemaian Mentawir di Kabupaten Penajam Paser Utara, Kalimantan Timur (Kaltim), Rabu (22/6/2022). Dalam kunjungan ke IKN kali ini, Presiden Jokowi juga mengajak sejumlah pemimpin media nasional.\n",
            "Puan, yang berada tak jauh dari Jokowi, juga ditanya soal ajakan ke IKN kali ini. Jawaban Puan setali tiga uang dengan sang Presiden.\n",
            "\"Ya kalau diterjemahkan seperti itu, silakan,\" ujar Puan menjawab pertanyaan apakah dia merasa ajakan Jokowi adalah kode dukungan kepadanya.\n",
            "\n",
            "Simak video 'Diskusi dengan Pemred Media, Jokowi: Kita Serius Urus Lingkungan':\n",
            " \n",
            "[Gambas:Video 20detik]\n",
            "\n",
            "Ketua Umum PDIP Megawati Soekarnoputri mengaku senang telah memilih Joko Widodo (Jokowi) sebagai presiden RI dari partainya. Megawati mengungkit cibiran orang-orang yang, katanya, sempat mengejek pilihannya.\n",
            "Dalam penutupan Rakernas II PDIP di Sekolah Partai, Lenteng Agung, Jakarta, Kamis (23/6/2022), Megawati menyebut sejarah mengajarkan bagaimana pemimpin amat berperan bagi kelangsungan hidup atau matinya suatu bangsa. Bagi Megawati, Jokowi berhasil memimpin bangsa.\n",
            "\"Saya merasa berterima kasih bahwa saya tidak salah pilih ketika waktu saya men-declare Pak Jokowi, orang kan dengan sinis mengatakan, 'Siapa toh Pak Jokowi nggak dikenal kok Ibu Mega berani-berani mengajukan dia'. Saya diam saja,\" kata Megawati.\n",
            "Megawati mengatakan pengalaman hidup membuatnya bisa melihat seseorang lebih mendalam. Dia yakin terhadap Jokowi saat itu.\n",
            "\"Kalau kita lihat kan sekarang Pak Jokowi itu kan bayangkan, saya heran juga lo, saya sampai tanya karena saya bilang, kalau berdua kan panggilnya adik, 'Adik, situ itu padahal kurus ya tapi kok bisa sih tahan banting banget',\" ujar Megawati.\n",
            "Presiden RI ke-5 itu mengungkit kunjungan Jokowi bersama putrinya yang juga Ketua DPR RI Puan Maharani ke Ibu Kota Negara Nusantara di Kalimantan Timur. Megawati kemudian mengungkit rencana kunjungan Jokowi ke Ukraina hingga Rusia.\n",
            "\"Nanti ini rencananya akan pergi ke Ukraine, dari Ukraine... ya itu ke Jerman, Ukraine, Ukraine ke Rusia melalui Poland. Jadi berhenti di Poland, dari Poland ke Ukraine-nya naik kereta 12 jam balik lagi lalu ke Rusia. Dari Rusia lalu ke Saudi Arabia. Itu maksud saya. Aduh saya terima kasih banget, untung kita punya presiden kuat,\" kata Megawati.\n",
            "Megawati juga mengungkit aksi Jokowi yang kerap turun ke pasar dan bertanya langsung kepada rakyat. Megawati bersyukur telah memilih Jokowi.\n",
            "Karena itu, Megawati meminta semua pihak bersabar terkait capres yang bakal diusung PDIP. Megawati juga mengungkit dugaan upaya menghilangkan perannya dalam memilih Jokowi.\n",
            "\"Jadi saya melihat alhamdulillah bahwa dulu yang menganggap saya ini kayaknya, 'Ini sopo to wongnya' ternyata bisa menjadi pemimpin pada saat sekarang. Kadang orang itu mau nutup-nutupi, orang yang milih itu Pak Jokowi ya saya kok. Kok kayaknya itu jejak mau dihilang-hilangkan gitu. Lo, enak bener,\" kata Megawati.\n",
            "\"Lo, makanya, sudahlah tunggulah kalau saya... ya ndak mungkin dong dari mulut saya ndak akan keluar nanti siapa yang mau saya jadikan gitu, lo,\" ujarnya.\n",
            "\n",
            "Simak video 'Megawati soal Deklarasi Capres PDIP: Saya Umpetin Terus':\n",
            " \n",
            "[Gambas:Video 20detik]\n",
            "\n",
            "Gerindra dan PKB kemarin kembali melakukan pertemuan yang salah satunya membahas duet Prabowo Subianto dan Muhaimin Iskandar atau Cak Imin. Ketua DPP PKB Lukmanul Khakim mengungkapkan PKB dan Gerindra berencana bersama-sama mencari lokasi untuk deklarasi duet Prabowo-Cak Imin.\n",
            "\"Kami juga ada rencana untuk survei lokasi deklarasi,\" kata Lukmanul kepada wartawan, Kamis (23/6/2022).\n",
            "Lukmanul mengatakan Ibu Kota Negara atau IKN Nusantara menjadi salah satu tempat yang dipertimbangkan. \"Salah satu tempat yang dipertimbangkan adalah di IKN,\" ujarnya.\n",
            "Kendati demikian, meski sudah ada kesepakatan duet Prabowo-Cak Imin, Lukmanul mengatakan Gerindra dan PKB tetap terbuka jika ada partai lain mau bergabung. Namun, untuk capres dan cawapresnya sudah ditentukan.\n",
            "\"Tentu koalisi ini terbuka untuk partai manapun, karena prinsip koalisi itukan cari teman, tapi soal capres dan cawapresnya sudah ada, yang mau gabung monggo, dengan senang hati dan tangan terbuka kami terima,\" ujarnya.\n",
            "\"Jadi demi NKRI, koalisi kebangkitan Indonesia raya mengajak seluruh partai politik untuk bersama sama dengan Gerindra dan PKB bersama sama mengusung Prabowo-Gus Muhaimin, yang cocok langsung kita bisa ngopi bersama,\" lanjut Lukmanul.\n",
            "\n",
            "Berdasarkan foto pertemuan yang diterima, Rabu (22/6/2022), tampak hadir Sekjen PKB Hasanuddin Wahid, Waketum PKB Jazilul Fawaid, dan Ketua DPP PKB Syaiful Huda. Sementara itu, petinggi Gerindra yang hadir adalah Sekjen Ahmad Muzani, Ketua Harian Sufmi Dasco Ahmad, dan Waketum Sugiono.\n",
            "\"Hari ini, Rabu sekitar jam 17.00 kami Partai Gerindra dan PKB silaturahmi, ngopi bareng dan berdiskusi mematangkan agenda kerja sama dan langkah langkah politik ke depan, tentu yang namanya koalisi perlu pemikiran-pemikiran besar untuk membangun dan memajukan NKRI,\" kata Ketua DPP PKB Lukmanul Khakim kepada wartawan.\n",
            "Setelah pertemuan pekan Prabowo-Cak Imin pekan lalu, perbincangan kedua partai terus berjalan. Lukmanul Khakim menyebut ada sambutan positif soal duet Prabowo-Cak Imin.\n",
            "\"Nah tentu, soal pilpres, diskusi kita cukup panjang, salah satunya, kita tadi bercerita, pascapertemuan Prabowo-Gus Muhaimin kemarin malam Minggu, rupanya animo kader, simpatisan, dan masyarakat cukup bagus, banyak yang suka dengan duet ini. responnya luar biasa,\" ujarnya.\n",
            "\"PKB dan Gerindra solid bersama sama menjemput kemenangan. Tentu koalisi ini terbuka untuk partai manapun, karena prinsip koalisi itu kan cari teman, tapi soal capres dan cawapresnya sudah ada, yang mau gabung monggo. Dengan senang hati dan tangan terbuka kita terima,\" imbuhnya.\n",
            "\n",
            "Simak Video 'Dasco Sambut Baik Puan Buka Peluang Koalisi Gerindra-PKB-PDIP':\n",
            "\n",
            "[Gambas:Video 20detik]\n",
            "\n",
            "Presiden Joko Widodo (Jokowi) meninjau lokasi Ibu Kota Nusantara bersama sejumlah Pemimpin Redaksi (Pemred) media. Jokowi optimistis pembangunan Ibu Kota Nusantara (IKN) berjalan lancar dan sesuai waktu yang telah direncanakan.\n",
            "Menteri PUPR Basuki Hadimuljono mengatakan infrastruktur dasar di ibu kota negara (IKN) Nusantara, Kalimantan Timur, digarap mulai Agustus 2022. Hal disampaikan di sela pertemuan dengan delegasi dari Korea Selatan yang membahas mengenai kerja sama kedua negara.\n",
            "\"Akan diprioritaskan juga feasibility study dan basic design untuk jalan akses IKN karena kami akan memulai pembangunan infrastruktur dasar IKN pada Agustus 2022 mendatang,\" ujar Basuki dalam keterangan tertulis dikutip Rabu (22/6/2022).\n",
            "Mengenai jalan akses di IKN, ini berkaitan dengan tiga hibah yang saat ini sedang dalam proses pipeline yaitu FS dan Basic Design Immersed Tunnel Teluk Balikpapan (Jalan Tol Akses IKN), pembentukan Manajemen Konstruksi Digital dan Hijau di Indonesia, dan pembentukan Sistem Informasi Jalan Tol di Indonesia.\n",
            "Adapun kerja sama antara dua negara ini yang lainnya yakni teknis bilateral antara Kementerian PUPR RI dengan Kementerian Konstruksi dan Perhubungan Korea Selatan yang diadakan sejak tahun 2003 sampai sekarang. Konferensi Jalan Indonesia - Korea ke-17 diselenggarakan pada 20-23 Juni 2022 dengan tema \"Smart City for IKN\".\n",
            "Jadi, ada dua kerja sama hibah antara Indonesia dan Korea Selatan yang saat ini sedang berlangsung, yaitu Manajemen Terpadu untuk Structural Health Monitoring System (SHMS) untuk jembatan nasional di Indonesia serta penyusunan Master Plan dan Pilot System Intelligent Transport Systems (ITS) untuk Area Metropolitan Jakarta.\n",
            "\"Pada bulan Juli kami akan mengirim 25 young engineer PUPR ke Korea Selatan untuk menjalani training terkait smart city. Selain itu ada 14 young engineer yang juga akan ke Korea Selatan untuk belajar mengenai SHMS jembatan. Ini merupakan bentuk kerja sama yang lebih konkrit selain diskusi-diskusi yang kita lakukan pada seminar atau konferensi,\" ujar Basuki.\n",
            "Sehubungan pembangunan IKN, Assistant Minister for Road Lee Yoon-Sang mengungkapkan telah dilakukan penandatanganan MoU antara Indonesia dan Korea Selatan.\n",
            "\"Setelah seminar konferensi pada tanggal 21 Juni, kami juga akan melakukan technical study ke IKN pada hari berikutnya. Para direksi dan peneliti kami akan ikut ke lokasi untuk menggali lebih banyak ekspansi kolaborasi antara kedua negara,\" kata Lee Yoon-Sang.\n",
            "Turut hadir mendampingi Menteri Basuki, Direktur Jenderal Bina Marga Hedy Rahadian, Direktur Sistem dan Strategi Penyelenggaraan Jalan dan Jembatan Miftachul Munir, Direktur Pembangunan Jembatan Yudha Handita Pandjiriawan, Direktur Pembangunan Jalan Satrio Sugeng Prayitno, dan Direktur Bina Teknik Jalan dan Jembatan Nyoman Suaryana.\n"
          ]
        }
      ]
    },
    {
      "cell_type": "markdown",
      "source": [
        "**Judul Berita**"
      ],
      "metadata": {
        "id": "AqbdaVbISale"
      }
    },
    {
      "cell_type": "code",
      "source": [
        "links = []\n",
        "title_reviews = []\n",
        "all_pages_reviews = []\n",
        "pagewise_reviews = []\n",
        "\n",
        "# def scraper():\n",
        "for i in range(1,202):\n",
        "  detik_url = 'https://www.detik.com/search/searchnews?query=ibu%20kota%20nusantara&sortby=time'\n",
        "  query_parameter = \"&page=\"+str(i)\n",
        "  url = detik_url + query_parameter\n",
        "  r = requests.get(url)\n",
        "  b = bt(r.content, 'lxml')\n",
        "  for news in b.findAll('h2'):\n",
        "    title_reviews.append(news.text)\n",
        "\n",
        "\n",
        "# scraper()"
      ],
      "metadata": {
        "id": "EVwpV46XApi0"
      },
      "execution_count": null,
      "outputs": []
    },
    {
      "cell_type": "code",
      "source": [
        "i = range(1, len(title_reviews)+1)\n",
        "titles_df = pd.DataFrame({'titles':title_reviews}, index=i)\n",
        "\n",
        "print(titles_df)"
      ],
      "metadata": {
        "id": "h2itKoRRNgln",
        "colab": {
          "base_uri": "https://localhost:8080/"
        },
        "outputId": "707e8e0c-604b-4ad4-bf93-95f2753d80c2"
      },
      "execution_count": null,
      "outputs": [
        {
          "output_type": "stream",
          "name": "stdout",
          "text": [
            "                                                 titles\n",
            "1              Foxconn Kepincut Bikin Smart City di IKN\n",
            "2              Barang Milik Negara Pasca Pemindahan IKN\n",
            "3     SKKL Echo Jalan Tol Internet ke AS Sampai ke R...\n",
            "4     Di Apel Dansat TNI AD, Kapolri Bicara Pentingn...\n",
            "5     Megawati Singgung Kunjungan Jokowi-Puan ke IKN...\n",
            "...                                                 ...\n",
            "1805                        Yuk, Buka Restoran di Amrik\n",
            "1806  Restoran Cina di AS Ada 9.000, Thai 3.000, Ind...\n",
            "1807  40 Paranormal Adu Kekuatan Hentikan Lumpur Lap...\n",
            "1808            Hidangan Spesial Jawa, Minang & Lombok \n",
            "1809  Dongeng Cinderella dan Ratu Penyihir di Abad T...\n",
            "\n",
            "[1809 rows x 1 columns]\n"
          ]
        }
      ]
    },
    {
      "cell_type": "code",
      "source": [
        "titles_df.to_csv('JudulIkn.csv')"
      ],
      "metadata": {
        "id": "1pDT0lu3pkPU"
      },
      "execution_count": null,
      "outputs": []
    },
    {
      "cell_type": "markdown",
      "source": [
        "**Links Berita**"
      ],
      "metadata": {
        "id": "JsbzBiJ6SUDf"
      }
    },
    {
      "cell_type": "code",
      "source": [
        "for i in range(1,202):\n",
        "  detik_url = 'https://www.detik.com/search/searchnews?query=ibu%20kota%20nusantara&sortby=time'\n",
        "  query_parameter = \"&page=\"+str(i)\n",
        "  url = detik_url + query_parameter\n",
        "  r = requests.get(url)\n",
        "  b = bt(r.content, 'lxml')\n",
        "  for news in b.findAll('article'):\n",
        "    links.append(news.a['href'])"
      ],
      "metadata": {
        "id": "BVpfCy3tPE-x"
      },
      "execution_count": null,
      "outputs": []
    },
    {
      "cell_type": "code",
      "source": [
        "i = range(1, len(links)+1)\n",
        "links_df = pd.DataFrame({'links':links}, index=i)\n",
        "\n",
        "print(links_df)"
      ],
      "metadata": {
        "id": "aXTvUOK_PaLf",
        "colab": {
          "base_uri": "https://localhost:8080/"
        },
        "outputId": "3f57ac6d-a8f5-4180-953d-b22f7acc5af2"
      },
      "execution_count": null,
      "outputs": [
        {
          "output_type": "stream",
          "name": "stdout",
          "text": [
            "                                                  links\n",
            "1     https://finance.detik.com/properti/d-6149263/f...\n",
            "2     https://news.detik.com/kolom/d-6149100/barang-...\n",
            "3     https://inet.detik.com/telecommunication/d-614...\n",
            "4     https://news.detik.com/berita/d-6144226/di-ape...\n",
            "5     https://news.detik.com/berita/d-6143445/megawa...\n",
            "...                                                 ...\n",
            "1805  https://finance.detik.com/berita-ekonomi-bisni...\n",
            "1806  https://news.detik.com/berita/d-746812/restora...\n",
            "1807  https://news.detik.com/berita/d-670021/40-para...\n",
            "1808  https://food.detik.com/cooking-event/d-643506/...\n",
            "1809  https://inet.detik.com/telecommunication/d-608...\n",
            "\n",
            "[1809 rows x 1 columns]\n"
          ]
        }
      ]
    },
    {
      "cell_type": "code",
      "source": [
        "links_df.to_csv('LinksIkn.csv', index=False)"
      ],
      "metadata": {
        "id": "Z74QkfaFqdFk"
      },
      "execution_count": null,
      "outputs": []
    },
    {
      "cell_type": "markdown",
      "source": [
        "**Isi Berita**"
      ],
      "metadata": {
        "id": "dFXn3MJ-SdoO"
      }
    },
    {
      "cell_type": "code",
      "source": [
        "isi_berita = []\n",
        "for link in links:\n",
        "  page = requests.get(link)\n",
        "  bsobj = bt(page.content)\n",
        "  for news in bsobj.findAll('p'):\n",
        "    isi_berita.append(news.text)\n",
        "\n",
        "\n",
        "i = range(1, len(isi_berita)+1)\n",
        "isi_df = pd.DataFrame({'Isi Berita':isi_berita}, index=i)\n",
        "\n",
        "# print(links_df)\n",
        "isi_df.to_csv('IsiBeritaIkn.csv', index=False)\n"
      ],
      "metadata": {
        "id": "KPbW7-UHSgNO"
      },
      "execution_count": null,
      "outputs": []
    }
  ]
}